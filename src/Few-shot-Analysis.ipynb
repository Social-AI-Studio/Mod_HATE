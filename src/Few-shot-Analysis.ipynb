{
 "cells": [
  {
   "cell_type": "code",
   "execution_count": 1,
   "id": "e5ac471c-b998-49c2-a8fa-278958d676b7",
   "metadata": {},
   "outputs": [],
   "source": [
    "import os\n",
    "import json\n",
    "import pickle as pkl"
   ]
  },
  {
   "cell_type": "code",
   "execution_count": 2,
   "id": "6a81c631-5f2b-4637-9f97-b37a2987343a",
   "metadata": {},
   "outputs": [],
   "source": [
    "import random"
   ]
  },
  {
   "cell_type": "code",
   "execution_count": 3,
   "id": "995dd46a-c0b1-43c9-be32-7864fc604ff6",
   "metadata": {},
   "outputs": [],
   "source": [
    "import numpy as np"
   ]
  },
  {
   "cell_type": "code",
   "execution_count": 4,
   "id": "f94d6b70-208c-4401-b643-904e6471c210",
   "metadata": {},
   "outputs": [],
   "source": [
    "def load_pkl(path):\n",
    "    data=pkl.load(open(path,'rb'))\n",
    "    return data\n",
    "\n",
    "def load_json(path):\n",
    "    data=json.load(open(path,'r'))\n",
    "    return data"
   ]
  },
  {
   "cell_type": "code",
   "execution_count": 5,
   "id": "175e8e49-aa8a-4ac6-84d4-be3890dc36c2",
   "metadata": {},
   "outputs": [
    {
     "name": "stdout",
     "output_type": "stream",
     "text": [
      "hate-exp,meme-captions,hate-speech\n",
      "\t [67.08, 67.5, 67.13, 67.15, 67.16]\n",
      "\t [60.7, 60.6, 61.51, 61.71, 61.01]\n",
      "AUC: 67.204 ,  0.15054567413247102\n",
      "Acc: 61.10600000000001 ,  0.43774878640608383\n",
      "meme-captions,hate-speech\n",
      "\t [68.95, 69.57, 68.52, 68.88, 69.38]\n",
      "\t [51.96, 51.66, 52.26, 52.46, 52.26]\n",
      "AUC: 69.05999999999999 ,  0.37379138566852915\n",
      "Acc: 52.120000000000005 ,  0.2800000000000008\n",
      "hate-exp,meme-captions\n",
      "\t [55.24, 55.26, 55.3, 55.26, 55.24]\n",
      "\t [50.25, 50.25, 50.25, 50.25, 50.25]\n",
      "AUC: 55.260000000000005 ,  0.02190890230020488\n",
      "Acc: 50.25 ,  0.0\n",
      "hate-speech,hate-exp\n",
      "\t [67.5, 68.28, 68.43, 68.09, 69.26]\n",
      "\t [59.2, 54.27, 53.47, 54.27, 52.56]\n",
      "AUC: 68.312 ,  0.5696103931636096\n",
      "Acc: 54.754 ,  2.310745334302333\n"
     ]
    }
   ],
   "source": [
    "dataset='mimc'\n",
    "conditions=[\n",
    "    'hate-exp,meme-captions,hate-speech',\n",
    "    'meme-captions,hate-speech',\n",
    "    'hate-exp,meme-captions',\n",
    "    'hate-speech,hate-exp'\n",
    "]\n",
    "\n",
    "for i,condi in enumerate(conditions):\n",
    "    print (condi)\n",
    "    acc=[]\n",
    "    auc=[]\n",
    "    num=i*10+40\n",
    "    for k in range(5):\n",
    "        save_file=os.path.join('shot_8_LoRA',dataset+'_'+str(num+k+1)+'.txt')\n",
    "        data=open(os.path.join(save_file),'r').readlines()\n",
    "        auc.append(float(data[-1].split(',')[0].split(' ')[1].strip()))\n",
    "        acc.append(float(data[-1].split(',')[1].split(' ')[-1].strip()))\n",
    "    print ('\\t',auc)\n",
    "    print ('\\t',acc)\n",
    "    avg=np.mean(auc)\n",
    "    std=np.std(auc)\n",
    "    print ('AUC:',avg,', ',std)\n",
    "    avg=np.mean(acc)\n",
    "    std=np.std(acc)\n",
    "    print ('Acc:',avg,', ',std)"
   ]
  },
  {
   "cell_type": "code",
   "execution_count": null,
   "id": "6e9b0ac2-3ae9-4535-ad90-8520ce3440b8",
   "metadata": {},
   "outputs": [],
   "source": []
  },
  {
   "cell_type": "code",
   "execution_count": null,
   "id": "a4d4c794-10c5-448d-89fd-1f8db9baf3cf",
   "metadata": {},
   "outputs": [],
   "source": []
  },
  {
   "cell_type": "code",
   "execution_count": null,
   "id": "f158a59e-5026-4810-8702-a87d7042135f",
   "metadata": {},
   "outputs": [],
   "source": []
  },
  {
   "cell_type": "code",
   "execution_count": null,
   "id": "90ff9da9-99d0-4db3-b023-91f26319a0e5",
   "metadata": {},
   "outputs": [],
   "source": []
  },
  {
   "cell_type": "code",
   "execution_count": null,
   "id": "daf014ab-1a9d-4952-9c84-1322113a7674",
   "metadata": {},
   "outputs": [],
   "source": []
  }
 ],
 "metadata": {
  "kernelspec": {
   "display_name": "Python 3 (ipykernel)",
   "language": "python",
   "name": "python3"
  },
  "language_info": {
   "codemirror_mode": {
    "name": "ipython",
    "version": 3
   },
   "file_extension": ".py",
   "mimetype": "text/x-python",
   "name": "python",
   "nbconvert_exporter": "python",
   "pygments_lexer": "ipython3",
   "version": "3.9.17"
  }
 },
 "nbformat": 4,
 "nbformat_minor": 5
}
